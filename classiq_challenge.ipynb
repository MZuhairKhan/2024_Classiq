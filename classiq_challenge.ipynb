{
 "cells": [
  {
   "cell_type": "markdown",
   "metadata": {},
   "source": [
    "# Classiq Challenge - Quantum Arithmetics"
   ]
  },
  {
   "cell_type": "markdown",
   "metadata": {},
   "source": [
    "Welcome to the Classiq challenge of the 2024 MIT IQuHack hackathon!\n",
    "This Jupyter notebook is the framework for the challenge and you should follow it in order to solve it using Classiq (alongside the guidelines of the challenge).\n",
    "\n",
    "The notebook has 3 parts:\n",
    "1. A warm up session, just to get up to speed with a small example of Classiq\n",
    "2. The challenge itself, including what you need to create, what's the format, and how you can check yourself\n",
    "3. A cheat sheet with relevant Classiq functions declarations\n",
    "\n",
    "Additional resources you should use are\n",
    "- The IDE of the classiq platform at [platform.classiq.io](platform.classiq.io)\n",
    "- The [community Slack of Classiq](https://short.classiq.io/join-slack) - Classiq's team will answer any question you have over there, including implementation questions\n",
    "- [Classiq's documentation](https://docs.classiq.io/latest/user-guide/platform/) with the dedicated [Python SDK explanations](https://docs.classiq.io/latest/user-guide/platform/qmod/python/functions/)\n",
    "\n",
    "Good luck!"
   ]
  },
  {
   "cell_type": "markdown",
   "metadata": {},
   "source": [
    "![MITClassiq](data:image/png;base64,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)"
   ]
  },
  {
   "cell_type": "markdown",
   "metadata": {},
   "source": [
    "## Warm Up"
   ]
  },
  {
   "cell_type": "markdown",
   "metadata": {},
   "source": [
    "Firstly, if you haven't done so far, you need to install the Classiq SDK package: "
   ]
  },
  {
   "cell_type": "code",
   "execution_count": null,
   "metadata": {},
   "outputs": [],
   "source": [
    "#%pip install -U classiq"
   ]
  },
  {
   "cell_type": "markdown",
   "metadata": {},
   "source": [
    "and to authenticate your device against the Classiq backend:"
   ]
  },
  {
   "cell_type": "code",
   "execution_count": null,
   "metadata": {},
   "outputs": [],
   "source": [
    "import classiq\n",
    "classiq.authenticate()"
   ]
  },
  {
   "cell_type": "markdown",
   "metadata": {},
   "source": [
    "Let's create a uniform superposition of numbers in the domain $[0,1)$ with equal spacing of $\\frac{1}{2^K}$ for $K=5$:"
   ]
  },
  {
   "cell_type": "code",
   "execution_count": null,
   "metadata": {},
   "outputs": [],
   "source": [
    "from classiq import *\n",
    "K =5\n",
    "\n",
    "@QFunc\n",
    "def main(x:Output[QNum]):\n",
    "    allocate_num(num_qubits=K, is_signed=False, fraction_digits=K,out=x)\n",
    "    hadamard_transform(x)\n",
    "\n",
    "quantum_model = create_model(main)\n",
    "quantum_program = synthesize(quantum_model)\n",
    "\n",
    "show(quantum_program) # view the circuit in the IDE\n",
    "\n",
    "job = execute(quantum_program)\n",
    "job.open_in_ide() # view the resulted histogram in the IDE"
   ]
  },
  {
   "cell_type": "markdown",
   "metadata": {},
   "source": [
    "That's cool right? :)\n",
    "\n",
    "If you are more a Python person, this is how you can post-process your results:"
   ]
  },
  {
   "cell_type": "code",
   "execution_count": null,
   "metadata": {},
   "outputs": [],
   "source": [
    "parsed_counts = job.result()[0].value.parsed_counts\n",
    "sorted_counts = sorted(parsed_counts, key=lambda x: x.state[\"x\"])\n",
    "for state_counts in sorted_counts: print('State: ', state_counts.state, '| Shots: ', state_counts.shots)"
   ]
  },
  {
   "cell_type": "markdown",
   "metadata": {},
   "source": [
    "## The Challenge Itself"
   ]
  },
  {
   "cell_type": "markdown",
   "metadata": {},
   "source": [
    "### Imports"
   ]
  },
  {
   "cell_type": "code",
   "execution_count": 23,
   "metadata": {},
   "outputs": [],
   "source": [
    "# All the imports needed\n",
    "from classiq import *\n",
    "\n",
    "from classiq.interface.backend.backend_preferences import ClassiqBackendPreferences\n",
    "from classiq.interface.executor.execution_preferences import ExecutionPreferences\n",
    "from classiq.interface.model.model import Model as Model_Designer\n",
    "from classiq.qmod.symbolic import *\n",
    "\n",
    "import numpy as np\n",
    "import json"
   ]
  },
  {
   "cell_type": "markdown",
   "metadata": {},
   "source": [
    "### The Heart of the Code - Build Your Algorithm Here"
   ]
  },
  {
   "cell_type": "code",
   "execution_count": null,
   "metadata": {},
   "outputs": [],
   "source": [
    "# The functions you need go here\n",
    "from numpy.polynomial.chebyshev import chebfit, chebval\n",
    "import numpy as np\n",
    "# Define the function for the interval transformations\n",
    "def transform_interval(x, interval_start, interval_end):\n",
    "    # Transform x from [interval_start, interval_end] to [-1, 1]\n",
    "    return 2 * (x - interval_start) / (interval_end - interval_start) - 1\n",
    "\n",
    "# Define the original tanh function for direct use\n",
    "def tanh_original(x):\n",
    "    return np.tanh(x)\n",
    "\n",
    "# Calculate Chebyshev coefficients for the two intervals\n",
    "# Interval [0, 0.5] transformed to [-1, 1]\n",
    "x_points_1 = np.linspace(0, 0.5, 500)\n",
    "x_transformed_1 = transform_interval(x_points_1, 0, 0.5)\n",
    "y_points_1 = tanh_original(x_points_1)\n",
    "coefficients_1 = chebfit(x_transformed_1, y_points_1, 4)\n",
    "\n",
    "# Interval [0.5, 1] transformed to [-1, 1]\n",
    "x_points_2 = np.linspace(0.5, 1, 500, endpoint=False)  # Exclude the endpoint to fit [0.5, 1[\n",
    "x_transformed_2 = transform_interval(x_points_2, 0.5, 1)\n",
    "y_points_2 = tanh_original(x_points_2)\n",
    "coefficients_2 = chebfit(x_transformed_2, y_points_2, 4)\n",
    "\n",
    "(coefficients_1, coefficients_2)\n"
   ]
  },
  {
   "cell_type": "code",
   "execution_count": null,
   "metadata": {},
   "outputs": [],
   "source": [
    "@QFunc\n",
    "def division(input: QNum, quotient: QParam[int], precision: QParam[int], output: Output[QNum]):\n",
    "    b = QNum('b')\n",
    "    allocate_num(num_qubits=quotient+precision,      \n",
    "                is_signed=False,            \n",
    "                fraction_digits=quotient,\n",
    "                out=b)\n",
    "    a_array = QArray(\"a_array\")\n",
    "    b_array = QArray(\"b\")\n",
    "    bind(input,a_array)\n",
    "    bind(b,b_array)\n",
    "    repeat( count=precision,         \n",
    "            iteration=lambda i: SWAP(a_array[i], b_array[i+quotient]))\n",
    "    output = QNum('output')\n",
    "    bind(b, output)"
   ]
  },
  {
   "cell_type": "code",
   "execution_count": null,
   "metadata": {},
   "outputs": [],
   "source": [
    "@QFunc\n",
    "def division(input: QNum, quotient: QParam[int], output: Output[QNum]):\n",
    "    tmp = QNum('tmp')\n",
    "    allocate_num(num_qubits=quotient,      \n",
    "                is_signed=False,            \n",
    "                fraction_digits=quotient,\n",
    "                out=tmp)\n",
    "    join(in1 = tmp, in2 = input, out = output)"
   ]
  },
  {
   "cell_type": "code",
   "execution_count": 79,
   "metadata": {},
   "outputs": [],
   "source": [
    "@QFunc\n",
    "def bin_creation(input: Input[QArray[QBit]], precision: QParam[int], output: Output[QNum]):    \n",
    "    n = precision - 2\n",
    "    used = input[:n]\n",
    "    @QFunc\n",
    "    def my_func(i: QParam[int]):\n",
    "        X(used[i])\n",
    "        control(lambda: X(cntrl[i]), used[:i])\n",
    "    allocate(n,cntrl)\n",
    "    apply_to_all(X, used)\n",
    "    control(X(cntrl[0]),used)\n",
    "    repeat(count=n, iteration=lambda i: my_func(n-i))\n",
    "    X(used[0])\n",
    "    repeat(count=n, iteration=lambda i: my_func(i))\n",
    "    # control(lambda: X(target), cntrl))\n",
    "    bind(cntrl, output)\n",
    "\n",
    "    "
   ]
  },
  {
   "cell_type": "code",
   "execution_count": 85,
   "metadata": {},
   "outputs": [
    {
     "data": {
      "text/plain": [
       "0.177734375"
      ]
     },
     "execution_count": 85,
     "metadata": {},
     "output_type": "execute_result"
    }
   ],
   "source": [
    "def approx(value, precision_bits):\n",
    "    binary_full = bin(int(value * (2 ** precision_bits)))[2:]\n",
    "    \n",
    "    # Truncate the binary string to the specified precision\n",
    "    binary_truncated = binary_full[:precision_bits]\n",
    "    \n",
    "    # Convert the truncated binary string back to a decimal value\n",
    "    decimal_truncated = int(binary_truncated, 2) / (2 ** precision_bits)\n",
    "\n",
    "    return decimal_truncated\n",
    "approx(0.1784, 10)"
   ]
  },
  {
   "cell_type": "code",
   "execution_count": 109,
   "metadata": {},
   "outputs": [],
   "source": [
    "# The heart of the code - the function that calculates the hyperbolic tangent\n",
    "@QFunc\n",
    "def compute_tanh(precision: QParam[int],    # The precision of x and tanh_x - how many fraction digits will represent your solution\n",
    "                 x: QNum,                   # A quantum variable that is represents numbers\n",
    "                 tanh_x: Output[QNum]       # The output of the function, which means it needs to be initialized within the scope of the function\n",
    "                 ):\n",
    "    \"\"\"\"\"\"\n",
    "    @QFunc\n",
    "    def tanh_0_12(x: QNum, tanh_x: Output[QNum]):\n",
    "        tanh_x |= 0.9296875*x + 0.0068359375\n",
    "    @QFunc\n",
    "    def tanh_12_1(x: QNum, tanh_x: Output[QNum]):\n",
    "        tanh_x |= 0.59375*x + 0.177734375\n",
    "    allocate_num(num_qubits=1,      \n",
    "                is_signed=False,            \n",
    "                fraction_digits=0,\n",
    "                out=ctr1)\n",
    "    allocate_num(num_qubits=1,      \n",
    "                is_signed=False,            \n",
    "                fraction_digits=0,\n",
    "                out=ctr2)\n",
    "    ctr1 = logical_and(x<1/2, x>0)\n",
    "    ctr2 = logical_and(x<1, x>1/2)\n",
    "    quantum_if(ctr1 == 1, lambda: tanh_0_12(x, tanh_x))\n",
    "    quantum_if(ctr2 == 1, lambda: tanh_12_1(x, tanh_x))\n",
    "    #control(tanh_12_1(x), ctr2)\n",
    "    #tanh_x |= 0.7705078125*x + 0.046875"
   ]
  },
  {
   "cell_type": "code",
   "execution_count": 110,
   "metadata": {},
   "outputs": [
    {
     "ename": "UnboundLocalError",
     "evalue": "cannot access local variable 'ctr1' where it is not associated with a value",
     "output_type": "error",
     "traceback": [
      "\u001b[1;31m---------------------------------------------------------------------------\u001b[0m",
      "\u001b[1;31mUnboundLocalError\u001b[0m                         Traceback (most recent call last)",
      "Cell \u001b[1;32mIn[110], line 18\u001b[0m\n\u001b[0;32m     15\u001b[0m     compute_tanh(precision, x, y)\n\u001b[0;32m     17\u001b[0m \u001b[38;5;66;03m# Generating the model itslef\u001b[39;00m\n\u001b[1;32m---> 18\u001b[0m qmod \u001b[38;5;241m=\u001b[39m \u001b[43mcreate_model\u001b[49m\u001b[43m(\u001b[49m\u001b[43mmain\u001b[49m\u001b[43m)\u001b[49m\n\u001b[0;32m     19\u001b[0m quantum_program \u001b[38;5;241m=\u001b[39m synthesize(qmod)\n\u001b[0;32m     21\u001b[0m show(quantum_program) \u001b[38;5;66;03m# view the circuit in the IDE\u001b[39;00m\n",
      "File \u001b[1;32mc:\\Users\\khanm\\AppData\\Local\\Programs\\Python\\Python311\\Lib\\site-packages\\classiq\\qmod\\quantum_function.py:33\u001b[0m, in \u001b[0;36mcreate_model\u001b[1;34m(entry_point, constraints, execution_preferences, preferences)\u001b[0m\n\u001b[0;32m     27\u001b[0m \u001b[38;5;28;01mdef\u001b[39;00m \u001b[38;5;21mcreate_model\u001b[39m(\n\u001b[0;32m     28\u001b[0m     entry_point: \u001b[38;5;124m\"\u001b[39m\u001b[38;5;124mQFunc\u001b[39m\u001b[38;5;124m\"\u001b[39m,\n\u001b[0;32m     29\u001b[0m     constraints: Optional[Constraints] \u001b[38;5;241m=\u001b[39m \u001b[38;5;28;01mNone\u001b[39;00m,\n\u001b[0;32m     30\u001b[0m     execution_preferences: Optional[ExecutionPreferences] \u001b[38;5;241m=\u001b[39m \u001b[38;5;28;01mNone\u001b[39;00m,\n\u001b[0;32m     31\u001b[0m     preferences: Optional[Preferences] \u001b[38;5;241m=\u001b[39m \u001b[38;5;28;01mNone\u001b[39;00m,\n\u001b[0;32m     32\u001b[0m ) \u001b[38;5;241m-\u001b[39m\u001b[38;5;241m>\u001b[39m SerializedModel:\n\u001b[1;32m---> 33\u001b[0m     \u001b[38;5;28;01mreturn\u001b[39;00m \u001b[43mentry_point\u001b[49m\u001b[38;5;241;43m.\u001b[39;49m\u001b[43mcreate_model\u001b[49m\u001b[43m(\u001b[49m\n\u001b[0;32m     34\u001b[0m \u001b[43m        \u001b[49m\u001b[43mconstraints\u001b[49m\u001b[43m,\u001b[49m\u001b[43m \u001b[49m\u001b[43mexecution_preferences\u001b[49m\u001b[43m,\u001b[49m\u001b[43m \u001b[49m\u001b[43mpreferences\u001b[49m\n\u001b[0;32m     35\u001b[0m \u001b[43m    \u001b[49m\u001b[43m)\u001b[49m\u001b[38;5;241m.\u001b[39mget_model()\n",
      "File \u001b[1;32mc:\\Users\\khanm\\AppData\\Local\\Programs\\Python\\Python311\\Lib\\site-packages\\classiq\\qmod\\quantum_function.py:63\u001b[0m, in \u001b[0;36mQFunc.create_model\u001b[1;34m(self, constraints, execution_preferences, preferences)\u001b[0m\n\u001b[0;32m     61\u001b[0m \u001b[38;5;28mself\u001b[39m\u001b[38;5;241m.\u001b[39m_qmodule\u001b[38;5;241m.\u001b[39mtype_decls \u001b[38;5;241m=\u001b[39m \u001b[38;5;28mdict\u001b[39m()\n\u001b[0;32m     62\u001b[0m \u001b[38;5;28mself\u001b[39m\u001b[38;5;241m.\u001b[39m_qmodule\u001b[38;5;241m.\u001b[39mnative_defs \u001b[38;5;241m=\u001b[39m \u001b[38;5;28mdict\u001b[39m()\n\u001b[1;32m---> 63\u001b[0m \u001b[38;5;28;43mself\u001b[39;49m\u001b[38;5;241;43m.\u001b[39;49m\u001b[43m_add_native_func_def\u001b[49m\u001b[43m(\u001b[49m\u001b[43m)\u001b[49m\n\u001b[0;32m     64\u001b[0m model_extra_settings: List[Tuple[\u001b[38;5;28mstr\u001b[39m, Any]] \u001b[38;5;241m=\u001b[39m [\n\u001b[0;32m     65\u001b[0m     (\u001b[38;5;124m\"\u001b[39m\u001b[38;5;124mconstraints\u001b[39m\u001b[38;5;124m\"\u001b[39m, constraints),\n\u001b[0;32m     66\u001b[0m     (\u001b[38;5;124m\"\u001b[39m\u001b[38;5;124mexecution_preferences\u001b[39m\u001b[38;5;124m\"\u001b[39m, execution_preferences),\n\u001b[0;32m     67\u001b[0m     (\u001b[38;5;124m\"\u001b[39m\u001b[38;5;124mpreferences\u001b[39m\u001b[38;5;124m\"\u001b[39m, preferences),\n\u001b[0;32m     68\u001b[0m ]\n\u001b[0;32m     69\u001b[0m \u001b[38;5;28;01mreturn\u001b[39;00m Model(\n\u001b[0;32m     70\u001b[0m     functions\u001b[38;5;241m=\u001b[39m\u001b[38;5;28mlist\u001b[39m(\u001b[38;5;28mself\u001b[39m\u001b[38;5;241m.\u001b[39m_qmodule\u001b[38;5;241m.\u001b[39mnative_defs\u001b[38;5;241m.\u001b[39mvalues()),\n\u001b[0;32m     71\u001b[0m     types\u001b[38;5;241m=\u001b[39m\u001b[38;5;28mlist\u001b[39m(\u001b[38;5;28mself\u001b[39m\u001b[38;5;241m.\u001b[39m_qmodule\u001b[38;5;241m.\u001b[39mtype_decls\u001b[38;5;241m.\u001b[39mvalues()),\n\u001b[0;32m     72\u001b[0m     \u001b[38;5;241m*\u001b[39m\u001b[38;5;241m*\u001b[39m{key: value \u001b[38;5;28;01mfor\u001b[39;00m key, value \u001b[38;5;129;01min\u001b[39;00m model_extra_settings \u001b[38;5;28;01mif\u001b[39;00m value},\n\u001b[0;32m     73\u001b[0m )\n",
      "File \u001b[1;32mc:\\Users\\khanm\\AppData\\Local\\Programs\\Python\\Python311\\Lib\\site-packages\\classiq\\qmod\\quantum_function.py:78\u001b[0m, in \u001b[0;36mQFunc._add_native_func_def\u001b[1;34m(self)\u001b[0m\n\u001b[0;32m     76\u001b[0m \u001b[38;5;28;01mif\u001b[39;00m \u001b[38;5;28mself\u001b[39m\u001b[38;5;241m.\u001b[39mfunc_decl\u001b[38;5;241m.\u001b[39mname \u001b[38;5;129;01min\u001b[39;00m \u001b[38;5;28mself\u001b[39m\u001b[38;5;241m.\u001b[39m_qmodule\u001b[38;5;241m.\u001b[39mnative_defs:\n\u001b[0;32m     77\u001b[0m     \u001b[38;5;28;01mreturn\u001b[39;00m\n\u001b[1;32m---> 78\u001b[0m \u001b[38;5;28;43mself\u001b[39;49m\u001b[38;5;241;43m.\u001b[39;49m\u001b[43mexpand\u001b[49m\u001b[43m(\u001b[49m\u001b[43m)\u001b[49m\n\u001b[0;32m     79\u001b[0m \u001b[38;5;28mself\u001b[39m\u001b[38;5;241m.\u001b[39m_qmodule\u001b[38;5;241m.\u001b[39mnative_defs[\u001b[38;5;28mself\u001b[39m\u001b[38;5;241m.\u001b[39mfunc_decl\u001b[38;5;241m.\u001b[39mname] \u001b[38;5;241m=\u001b[39m NativeFunctionDefinition(\n\u001b[0;32m     80\u001b[0m     \u001b[38;5;241m*\u001b[39m\u001b[38;5;241m*\u001b[39m\u001b[38;5;28mself\u001b[39m\u001b[38;5;241m.\u001b[39mfunc_decl\u001b[38;5;241m.\u001b[39m\u001b[38;5;18m__dict__\u001b[39m, body\u001b[38;5;241m=\u001b[39m\u001b[38;5;28mself\u001b[39m\u001b[38;5;241m.\u001b[39mbody\n\u001b[0;32m     81\u001b[0m )\n",
      "File \u001b[1;32mc:\\Users\\khanm\\AppData\\Local\\Programs\\Python\\Python311\\Lib\\site-packages\\classiq\\qmod\\quantum_expandable.py:69\u001b[0m, in \u001b[0;36mQExpandable.expand\u001b[1;34m(self)\u001b[0m\n\u001b[0;32m     67\u001b[0m \u001b[38;5;28;01mdef\u001b[39;00m \u001b[38;5;21mexpand\u001b[39m(\u001b[38;5;28mself\u001b[39m) \u001b[38;5;241m-\u001b[39m\u001b[38;5;241m>\u001b[39m \u001b[38;5;28;01mNone\u001b[39;00m:\n\u001b[0;32m     68\u001b[0m     \u001b[38;5;28;01mwith\u001b[39;00m \u001b[38;5;28mself\u001b[39m:\n\u001b[1;32m---> 69\u001b[0m         \u001b[38;5;28;43mself\u001b[39;49m\u001b[38;5;241;43m.\u001b[39;49m\u001b[43m_py_callable\u001b[49m\u001b[43m(\u001b[49m\u001b[38;5;241;43m*\u001b[39;49m\u001b[38;5;28;43mself\u001b[39;49m\u001b[38;5;241;43m.\u001b[39;49m\u001b[43m_get_positional_args\u001b[49m\u001b[43m(\u001b[49m\u001b[43m)\u001b[49m\u001b[43m)\u001b[49m\n",
      "Cell \u001b[1;32mIn[110], line 15\u001b[0m, in \u001b[0;36mmain\u001b[1;34m(x, y)\u001b[0m\n\u001b[0;32m     12\u001b[0m \u001b[38;5;66;03m# Initalizing over all possible values of the quantum number with the hadamard transform\u001b[39;00m\n\u001b[0;32m     13\u001b[0m hadamard_transform(x)\n\u001b[1;32m---> 15\u001b[0m \u001b[43mcompute_tanh\u001b[49m\u001b[43m(\u001b[49m\u001b[43mprecision\u001b[49m\u001b[43m,\u001b[49m\u001b[43m \u001b[49m\u001b[43mx\u001b[49m\u001b[43m,\u001b[49m\u001b[43m \u001b[49m\u001b[43my\u001b[49m\u001b[43m)\u001b[49m\n",
      "File \u001b[1;32mc:\\Users\\khanm\\AppData\\Local\\Programs\\Python\\Python311\\Lib\\site-packages\\classiq\\qmod\\quantum_function.py:53\u001b[0m, in \u001b[0;36mQFunc.__call__\u001b[1;34m(self, *args, **kwargs)\u001b[0m\n\u001b[0;32m     51\u001b[0m \u001b[38;5;28;01mdef\u001b[39;00m \u001b[38;5;21m__call__\u001b[39m(\u001b[38;5;28mself\u001b[39m, \u001b[38;5;241m*\u001b[39margs: Any, \u001b[38;5;241m*\u001b[39m\u001b[38;5;241m*\u001b[39mkwargs: Any) \u001b[38;5;241m-\u001b[39m\u001b[38;5;241m>\u001b[39m \u001b[38;5;28;01mNone\u001b[39;00m:\n\u001b[0;32m     52\u001b[0m     \u001b[38;5;28msuper\u001b[39m()\u001b[38;5;241m.\u001b[39m\u001b[38;5;21m__call__\u001b[39m(\u001b[38;5;241m*\u001b[39margs, \u001b[38;5;241m*\u001b[39m\u001b[38;5;241m*\u001b[39mkwargs)\n\u001b[1;32m---> 53\u001b[0m     \u001b[38;5;28;43mself\u001b[39;49m\u001b[38;5;241;43m.\u001b[39;49m\u001b[43m_add_native_func_def\u001b[49m\u001b[43m(\u001b[49m\u001b[43m)\u001b[49m\n",
      "File \u001b[1;32mc:\\Users\\khanm\\AppData\\Local\\Programs\\Python\\Python311\\Lib\\site-packages\\classiq\\qmod\\quantum_function.py:78\u001b[0m, in \u001b[0;36mQFunc._add_native_func_def\u001b[1;34m(self)\u001b[0m\n\u001b[0;32m     76\u001b[0m \u001b[38;5;28;01mif\u001b[39;00m \u001b[38;5;28mself\u001b[39m\u001b[38;5;241m.\u001b[39mfunc_decl\u001b[38;5;241m.\u001b[39mname \u001b[38;5;129;01min\u001b[39;00m \u001b[38;5;28mself\u001b[39m\u001b[38;5;241m.\u001b[39m_qmodule\u001b[38;5;241m.\u001b[39mnative_defs:\n\u001b[0;32m     77\u001b[0m     \u001b[38;5;28;01mreturn\u001b[39;00m\n\u001b[1;32m---> 78\u001b[0m \u001b[38;5;28;43mself\u001b[39;49m\u001b[38;5;241;43m.\u001b[39;49m\u001b[43mexpand\u001b[49m\u001b[43m(\u001b[49m\u001b[43m)\u001b[49m\n\u001b[0;32m     79\u001b[0m \u001b[38;5;28mself\u001b[39m\u001b[38;5;241m.\u001b[39m_qmodule\u001b[38;5;241m.\u001b[39mnative_defs[\u001b[38;5;28mself\u001b[39m\u001b[38;5;241m.\u001b[39mfunc_decl\u001b[38;5;241m.\u001b[39mname] \u001b[38;5;241m=\u001b[39m NativeFunctionDefinition(\n\u001b[0;32m     80\u001b[0m     \u001b[38;5;241m*\u001b[39m\u001b[38;5;241m*\u001b[39m\u001b[38;5;28mself\u001b[39m\u001b[38;5;241m.\u001b[39mfunc_decl\u001b[38;5;241m.\u001b[39m\u001b[38;5;18m__dict__\u001b[39m, body\u001b[38;5;241m=\u001b[39m\u001b[38;5;28mself\u001b[39m\u001b[38;5;241m.\u001b[39mbody\n\u001b[0;32m     81\u001b[0m )\n",
      "File \u001b[1;32mc:\\Users\\khanm\\AppData\\Local\\Programs\\Python\\Python311\\Lib\\site-packages\\classiq\\qmod\\quantum_expandable.py:69\u001b[0m, in \u001b[0;36mQExpandable.expand\u001b[1;34m(self)\u001b[0m\n\u001b[0;32m     67\u001b[0m \u001b[38;5;28;01mdef\u001b[39;00m \u001b[38;5;21mexpand\u001b[39m(\u001b[38;5;28mself\u001b[39m) \u001b[38;5;241m-\u001b[39m\u001b[38;5;241m>\u001b[39m \u001b[38;5;28;01mNone\u001b[39;00m:\n\u001b[0;32m     68\u001b[0m     \u001b[38;5;28;01mwith\u001b[39;00m \u001b[38;5;28mself\u001b[39m:\n\u001b[1;32m---> 69\u001b[0m         \u001b[38;5;28;43mself\u001b[39;49m\u001b[38;5;241;43m.\u001b[39;49m\u001b[43m_py_callable\u001b[49m\u001b[43m(\u001b[49m\u001b[38;5;241;43m*\u001b[39;49m\u001b[38;5;28;43mself\u001b[39;49m\u001b[38;5;241;43m.\u001b[39;49m\u001b[43m_get_positional_args\u001b[49m\u001b[43m(\u001b[49m\u001b[43m)\u001b[49m\u001b[43m)\u001b[49m\n",
      "Cell \u001b[1;32mIn[109], line 17\u001b[0m, in \u001b[0;36mcompute_tanh\u001b[1;34m(precision, x, tanh_x)\u001b[0m\n\u001b[0;32m     11\u001b[0m \u001b[38;5;129m@QFunc\u001b[39m\n\u001b[0;32m     12\u001b[0m \u001b[38;5;28;01mdef\u001b[39;00m \u001b[38;5;21mtanh_12_1\u001b[39m(x: QNum, tanh_x: Output[QNum]):\n\u001b[0;32m     13\u001b[0m     tanh_x \u001b[38;5;241m|\u001b[39m\u001b[38;5;241m=\u001b[39m \u001b[38;5;241m0.59375\u001b[39m\u001b[38;5;241m*\u001b[39mx \u001b[38;5;241m+\u001b[39m \u001b[38;5;241m0.177734375\u001b[39m\n\u001b[0;32m     14\u001b[0m allocate_num(num_qubits\u001b[38;5;241m=\u001b[39m\u001b[38;5;241m1\u001b[39m,      \n\u001b[0;32m     15\u001b[0m             is_signed\u001b[38;5;241m=\u001b[39m\u001b[38;5;28;01mFalse\u001b[39;00m,            \n\u001b[0;32m     16\u001b[0m             fraction_digits\u001b[38;5;241m=\u001b[39m\u001b[38;5;241m0\u001b[39m,\n\u001b[1;32m---> 17\u001b[0m             out\u001b[38;5;241m=\u001b[39m\u001b[43mctr1\u001b[49m)\n\u001b[0;32m     18\u001b[0m allocate_num(num_qubits\u001b[38;5;241m=\u001b[39m\u001b[38;5;241m1\u001b[39m,      \n\u001b[0;32m     19\u001b[0m             is_signed\u001b[38;5;241m=\u001b[39m\u001b[38;5;28;01mFalse\u001b[39;00m,            \n\u001b[0;32m     20\u001b[0m             fraction_digits\u001b[38;5;241m=\u001b[39m\u001b[38;5;241m0\u001b[39m,\n\u001b[0;32m     21\u001b[0m             out\u001b[38;5;241m=\u001b[39mctr2)\n\u001b[0;32m     22\u001b[0m ctr1 \u001b[38;5;241m=\u001b[39m logical_and(x\u001b[38;5;241m<\u001b[39m\u001b[38;5;241m1\u001b[39m\u001b[38;5;241m/\u001b[39m\u001b[38;5;241m2\u001b[39m, x\u001b[38;5;241m>\u001b[39m\u001b[38;5;241m0\u001b[39m)\n",
      "\u001b[1;31mUnboundLocalError\u001b[0m: cannot access local variable 'ctr1' where it is not associated with a value"
     ]
    }
   ],
   "source": [
    "# Do not change this part of the code !\n",
    "precision = 6\n",
    "@QFunc\n",
    "def main(x: Output[QNum],y: Output[QNum]):\n",
    "\n",
    "    # A quantum variable which represents numbers is initialized\n",
    "    allocate_num(num_qubits=precision,      \n",
    "                is_signed=False,            \n",
    "                fraction_digits=precision,\n",
    "                out=x)\n",
    "    \n",
    "    # Initalizing over all possible values of the quantum number with the hadamard transform\n",
    "    hadamard_transform(x)\n",
    "\n",
    "    compute_tanh(precision, x, y)\n",
    "\n",
    "# Generating the model itslef\n",
    "qmod = create_model(main)\n",
    "quantum_program = synthesize(qmod)\n",
    "\n",
    "show(quantum_program) # view the circuit in the IDE\n",
    "\n",
    "#job = execute(quantum_program)\n",
    "#job.open_in_ide()"
   ]
  },
  {
   "cell_type": "code",
   "execution_count": null,
   "metadata": {},
   "outputs": [],
   "source": [
    "# Your precision value\n",
    "precision = 2"
   ]
  },
  {
   "cell_type": "code",
   "execution_count": null,
   "metadata": {},
   "outputs": [],
   "source": [
    "# Do not change this part of the code !\n",
    "\n",
    "@QFunc\n",
    "def main(x: Output[QNum],y: Output[QNum]):\n",
    "\n",
    "    # A quantum variable which represents numbers is initialized\n",
    "    allocate_num(num_qubits=precision,      \n",
    "                is_signed=False,            \n",
    "                fraction_digits=precision,\n",
    "                out=x)\n",
    "    \n",
    "    # Initalizing over all possible values of the quantum number with the hadamard transform\n",
    "    hadamard_transform(x)\n",
    "\n",
    "    # Computing your compute_tanh function\n",
    "    compute_tanh(precision,x,y)\n",
    "\n",
    "# Generating the model itslef\n",
    "qmod = create_model(main)"
   ]
  },
  {
   "cell_type": "code",
   "execution_count": null,
   "metadata": {},
   "outputs": [],
   "source": [
    "quantum_program = synthesize(qmod)\n",
    "\n",
    "show(quantum_program) # view the circuit in the IDE\n",
    "\n",
    "job = execute(quantum_program)\n",
    "job.open_in_ide()"
   ]
  },
  {
   "cell_type": "markdown",
   "metadata": {},
   "source": [
    "### Saving the Files - What You Need To Submit"
   ]
  },
  {
   "cell_type": "markdown",
   "metadata": {},
   "source": [
    "First, define the precisions of your solutions:"
   ]
  },
  {
   "cell_type": "code",
   "execution_count": 74,
   "metadata": {},
   "outputs": [],
   "source": [
    "#Precision values stages 1&2 - You need to enter these values in Google Form submission\n",
    "precision_value_stage_1 = 8\n",
    "precision_value_stage_2 = 25"
   ]
  },
  {
   "cell_type": "markdown",
   "metadata": {},
   "source": [
    "Then we can create adapted quantum models for the two stages according to the corresponding precisions and constraints:"
   ]
  },
  {
   "cell_type": "code",
   "execution_count": 75,
   "metadata": {},
   "outputs": [],
   "source": [
    "def get_model_with_new_precision(qmod, new_precision):\n",
    "    '''\n",
    "    The function adapts the precision value in the qmod according to the new precision value given.\n",
    "    '''\n",
    "    \"\"\"\n",
    "    @QFunc\n",
    "    def compute_tanh(\n",
    "        precision: QParam[int],\n",
    "        x: QNum,\n",
    "        tanh_x: Output[QNum],\n",
    "    ):\n",
    "        # dummy implementation\n",
    "        allocate_num(precision, False, precision, tanh_x)\"\"\"\n",
    "\n",
    "    @QFunc\n",
    "    def main(x: Output[QNum], y: Output[QNum]):\n",
    "        allocate_num(new_precision, False, new_precision, x)\n",
    "        hadamard_transform(x)\n",
    "        compute_tanh(new_precision, x, y)\n",
    "\n",
    "    new_main = main.create_model().main_func\n",
    "    parsed_qmod = Model_Designer.parse_obj(json.loads(qmod))\n",
    "    new_model = Model_Designer(functions=[f for f in parsed_qmod.functions if f.name != \"main\"] + [new_main])\n",
    "    return new_model.get_model()\n",
    "\n",
    "\n",
    "# Adapting the qmod for the relevant constraints - stage 1\n",
    "max_width_stage_1 = 30\n",
    "max_depth_stage_1 = 3000\n",
    "synthesis_timeout_sec_stage_1 = 90\n",
    "qmod_stage_1 = get_model_with_new_precision(qmod,precision_value_stage_1)\n",
    "qmod_stage_1 = set_constraints(qmod_stage_1,Constraints(max_width=max_width_stage_1,max_depth=max_depth_stage_1))\n",
    "qmod_stage_1 = set_preferences(qmod_stage_1, Preferences(timeout_seconds=synthesis_timeout_sec_stage_1))\n",
    "\n",
    "# Adapting the qmod for the relevant constraints - stage 2\n",
    "max_width_stage_2 = 100\n",
    "max_depth_stage_2 = 30000\n",
    "synthesis_timeout_sec_stage_2 = 180\n",
    "optimization_param = \"depth\"\n",
    "qmod_stage_2 = get_model_with_new_precision(qmod,precision_value_stage_2)\n",
    "qmod_stage_2 = set_constraints(qmod_stage_2,Constraints(max_width=max_width_stage_2,max_depth=max_depth_stage_2,optimization_parameter=optimization_param))\n",
    "qmod_stage_2 = set_preferences(qmod_stage_2, Preferences(timeout_seconds=synthesis_timeout_sec_stage_2))\n"
   ]
  },
  {
   "cell_type": "markdown",
   "metadata": {},
   "source": [
    "Now in order to save the deliverables files, you should adapt the following file names including their locations (no need to include the file extensions, i.e. do not add `.qprog`/`.qmod` at the end):"
   ]
  },
  {
   "cell_type": "code",
   "execution_count": 76,
   "metadata": {},
   "outputs": [],
   "source": [
    "# Files names (no extensions needed!)\n",
    "file_name_qmod = 'qmod_default' #TODO change to your file_name\n",
    "file_name_qprog_stage_1 = 'qprog_stage_1_default' #TODO change to your file_name\n",
    "file_name_qprog_stage_2 = 'qprog_stage_2_default' #TODO change to your file_name"
   ]
  },
  {
   "cell_type": "markdown",
   "metadata": {},
   "source": [
    "Run the following cell to save the relevant deliverables:\n",
    "1. Your model (`.qmod` file)\n",
    "2. Your quantum program for stage 1 with the corresponding precision (`.qprog` file)\n",
    "3. Your quantum program for stage 2 with the corresponding precision (`.qprog` file)"
   ]
  },
  {
   "cell_type": "code",
   "execution_count": 77,
   "metadata": {},
   "outputs": [],
   "source": [
    "def save_new_file(program_to_save,file_name):\n",
    "    '''\n",
    "    A simple function that saves your code as a text file\n",
    "    '''\n",
    "    file = open(file_name,\"w\")\n",
    "    file.write(program_to_save)\n",
    "    file.close()\n",
    "\n",
    "\n",
    "# Saving the qmod\n",
    "save_new_file(qmod, file_name_qmod+'.qmod') # You need to submit this file\n",
    "\n",
    "# Save the qprof of stage 1\n",
    "qprog_stage_1 = synthesize(qmod_stage_1)\n",
    "save_new_file(qprog_stage_1, file_name_qprog_stage_1+'.qprog') # You need to submit this file\n",
    "\n",
    "# Save the qprog of stage 2\n",
    "qprog_stage_2 = synthesize(qmod_stage_2)\n",
    "save_new_file(qprog_stage_2, file_name_qprog_stage_2+'.qprog') # You need to submit this file"
   ]
  },
  {
   "cell_type": "markdown",
   "metadata": {},
   "source": [
    "It's worth checking out your quantum programs by viewing them:"
   ]
  },
  {
   "cell_type": "code",
   "execution_count": null,
   "metadata": {},
   "outputs": [],
   "source": [
    "show(qprog_stage_1)"
   ]
  },
  {
   "cell_type": "code",
   "execution_count": null,
   "metadata": {},
   "outputs": [],
   "source": [
    "show(qprog_stage_2)"
   ]
  },
  {
   "cell_type": "markdown",
   "metadata": {},
   "source": [
    "### Evaluate Your Results"
   ]
  },
  {
   "cell_type": "markdown",
   "metadata": {},
   "source": [
    "Evaluate the results of stage 1:\n",
    "\n",
    "**NOTE!** \n",
    "- With the `aer_simulator` you can simulate up to 25 qubits circuit\n",
    "- With the `nvidia_state_vector_simulator` you can simulate up to 30 qubits circuit, but you can use it up to 10 times, so make sure to use it wisely"
   ]
  },
  {
   "cell_type": "code",
   "execution_count": 78,
   "metadata": {},
   "outputs": [
    {
     "name": "stdout",
     "output_type": "stream",
     "text": [
      "Synthesizing quantum program stage 1 with the execution preferences\n",
      "Synthesized circuit width: 26, depth: 189\n",
      "Executing the quantum program\n"
     ]
    },
    {
     "ename": "ClassiqAPIError",
     "evalue": "Call to API failed with code 400: Requested program requires too many qubits.\nRequested qubits: 26, backend: aer_simulator, limit: 25.\nPlease run a different program or try a different backend.\n\nIf you need further assistance, please reach out on our Community Slack channel at: https://short.classiq.io/join-slack\nIf the error persists feel free to open a ticket at: https://short.classiq.io/support",
     "output_type": "error",
     "traceback": [
      "\u001b[1;31m---------------------------------------------------------------------------\u001b[0m",
      "\u001b[1;31mClassiqAPIError\u001b[0m                           Traceback (most recent call last)",
      "Cell \u001b[1;32mIn[78], line 46\u001b[0m\n\u001b[0;32m     44\u001b[0m print_depth_width(qprog_stage_1)\n\u001b[0;32m     45\u001b[0m \u001b[38;5;28mprint\u001b[39m(\u001b[38;5;124m'\u001b[39m\u001b[38;5;124mExecuting the quantum program\u001b[39m\u001b[38;5;124m'\u001b[39m)\n\u001b[1;32m---> 46\u001b[0m results \u001b[38;5;241m=\u001b[39m \u001b[43mexecute\u001b[49m\u001b[43m(\u001b[49m\u001b[43mqprog_stage_1\u001b[49m\u001b[43m)\u001b[49m\u001b[38;5;241m.\u001b[39mresult()\n\u001b[0;32m     47\u001b[0m \u001b[38;5;28mprint\u001b[39m(\u001b[38;5;124m\"\u001b[39m\u001b[38;5;124mResults of stage 1 \u001b[39m\u001b[38;5;130;01m\\n\u001b[39;00m\u001b[38;5;124m Max distance = \u001b[39m\u001b[38;5;124m\"\u001b[39m, evaluate_score_stage_1(results, precision_value_stage_1))\n",
      "File \u001b[1;32mc:\\Users\\khanm\\AppData\\Local\\Programs\\Python\\Python311\\Lib\\site-packages\\classiq\\_internals\\async_utils.py:50\u001b[0m, in \u001b[0;36msyncify_function.<locals>.async_wrapper\u001b[1;34m(*args, **kwargs)\u001b[0m\n\u001b[0;32m     48\u001b[0m \u001b[38;5;129m@functools\u001b[39m\u001b[38;5;241m.\u001b[39mwraps(async_func)\n\u001b[0;32m     49\u001b[0m \u001b[38;5;28;01mdef\u001b[39;00m \u001b[38;5;21masync_wrapper\u001b[39m(\u001b[38;5;241m*\u001b[39margs: Any, \u001b[38;5;241m*\u001b[39m\u001b[38;5;241m*\u001b[39mkwargs: Any) \u001b[38;5;241m-\u001b[39m\u001b[38;5;241m>\u001b[39m T:\n\u001b[1;32m---> 50\u001b[0m     \u001b[38;5;28;01mreturn\u001b[39;00m \u001b[43mrun\u001b[49m\u001b[43m(\u001b[49m\u001b[43masync_func\u001b[49m\u001b[43m(\u001b[49m\u001b[38;5;241;43m*\u001b[39;49m\u001b[43margs\u001b[49m\u001b[43m,\u001b[49m\u001b[43m \u001b[49m\u001b[38;5;241;43m*\u001b[39;49m\u001b[38;5;241;43m*\u001b[39;49m\u001b[43mkwargs\u001b[49m\u001b[43m)\u001b[49m\u001b[43m)\u001b[49m\n",
      "File \u001b[1;32mc:\\Users\\khanm\\AppData\\Local\\Programs\\Python\\Python311\\Lib\\site-packages\\classiq\\_internals\\async_utils.py:44\u001b[0m, in \u001b[0;36mrun\u001b[1;34m(coro)\u001b[0m\n\u001b[0;32m     39\u001b[0m \u001b[38;5;28;01mdef\u001b[39;00m \u001b[38;5;21mrun\u001b[39m(coro: Awaitable[T]) \u001b[38;5;241m-\u001b[39m\u001b[38;5;241m>\u001b[39m T:\n\u001b[0;32m     40\u001b[0m     \u001b[38;5;66;03m# Use this function instead of asyncio.run, since it ALWAYS\u001b[39;00m\n\u001b[0;32m     41\u001b[0m     \u001b[38;5;66;03m# creates a new event loop and clears the thread event loop.\u001b[39;00m\n\u001b[0;32m     42\u001b[0m     \u001b[38;5;66;03m# Never use asyncio.run in library code.\u001b[39;00m\n\u001b[0;32m     43\u001b[0m     loop \u001b[38;5;241m=\u001b[39m get_event_loop()\n\u001b[1;32m---> 44\u001b[0m     \u001b[38;5;28;01mreturn\u001b[39;00m \u001b[43mloop\u001b[49m\u001b[38;5;241;43m.\u001b[39;49m\u001b[43mrun_until_complete\u001b[49m\u001b[43m(\u001b[49m\u001b[43mcoro\u001b[49m\u001b[43m)\u001b[49m\n",
      "File \u001b[1;32m~\\AppData\\Roaming\\Python\\Python311\\site-packages\\nest_asyncio.py:98\u001b[0m, in \u001b[0;36m_patch_loop.<locals>.run_until_complete\u001b[1;34m(self, future)\u001b[0m\n\u001b[0;32m     95\u001b[0m \u001b[38;5;28;01mif\u001b[39;00m \u001b[38;5;129;01mnot\u001b[39;00m f\u001b[38;5;241m.\u001b[39mdone():\n\u001b[0;32m     96\u001b[0m     \u001b[38;5;28;01mraise\u001b[39;00m \u001b[38;5;167;01mRuntimeError\u001b[39;00m(\n\u001b[0;32m     97\u001b[0m         \u001b[38;5;124m'\u001b[39m\u001b[38;5;124mEvent loop stopped before Future completed.\u001b[39m\u001b[38;5;124m'\u001b[39m)\n\u001b[1;32m---> 98\u001b[0m \u001b[38;5;28;01mreturn\u001b[39;00m \u001b[43mf\u001b[49m\u001b[38;5;241;43m.\u001b[39;49m\u001b[43mresult\u001b[49m\u001b[43m(\u001b[49m\u001b[43m)\u001b[49m\n",
      "File \u001b[1;32mc:\\Users\\khanm\\AppData\\Local\\Programs\\Python\\Python311\\Lib\\asyncio\\futures.py:203\u001b[0m, in \u001b[0;36mFuture.result\u001b[1;34m(self)\u001b[0m\n\u001b[0;32m    201\u001b[0m \u001b[38;5;28mself\u001b[39m\u001b[38;5;241m.\u001b[39m__log_traceback \u001b[38;5;241m=\u001b[39m \u001b[38;5;28;01mFalse\u001b[39;00m\n\u001b[0;32m    202\u001b[0m \u001b[38;5;28;01mif\u001b[39;00m \u001b[38;5;28mself\u001b[39m\u001b[38;5;241m.\u001b[39m_exception \u001b[38;5;129;01mis\u001b[39;00m \u001b[38;5;129;01mnot\u001b[39;00m \u001b[38;5;28;01mNone\u001b[39;00m:\n\u001b[1;32m--> 203\u001b[0m     \u001b[38;5;28;01mraise\u001b[39;00m \u001b[38;5;28mself\u001b[39m\u001b[38;5;241m.\u001b[39m_exception\u001b[38;5;241m.\u001b[39mwith_traceback(\u001b[38;5;28mself\u001b[39m\u001b[38;5;241m.\u001b[39m_exception_tb)\n\u001b[0;32m    204\u001b[0m \u001b[38;5;28;01mreturn\u001b[39;00m \u001b[38;5;28mself\u001b[39m\u001b[38;5;241m.\u001b[39m_result\n",
      "File \u001b[1;32mc:\\Users\\khanm\\AppData\\Local\\Programs\\Python\\Python311\\Lib\\asyncio\\tasks.py:267\u001b[0m, in \u001b[0;36mTask.__step\u001b[1;34m(***failed resolving arguments***)\u001b[0m\n\u001b[0;32m    263\u001b[0m \u001b[38;5;28;01mtry\u001b[39;00m:\n\u001b[0;32m    264\u001b[0m     \u001b[38;5;28;01mif\u001b[39;00m exc \u001b[38;5;129;01mis\u001b[39;00m \u001b[38;5;28;01mNone\u001b[39;00m:\n\u001b[0;32m    265\u001b[0m         \u001b[38;5;66;03m# We use the `send` method directly, because coroutines\u001b[39;00m\n\u001b[0;32m    266\u001b[0m         \u001b[38;5;66;03m# don't have `__iter__` and `__next__` methods.\u001b[39;00m\n\u001b[1;32m--> 267\u001b[0m         result \u001b[38;5;241m=\u001b[39m coro\u001b[38;5;241m.\u001b[39msend(\u001b[38;5;28;01mNone\u001b[39;00m)\n\u001b[0;32m    268\u001b[0m     \u001b[38;5;28;01melse\u001b[39;00m:\n\u001b[0;32m    269\u001b[0m         result \u001b[38;5;241m=\u001b[39m coro\u001b[38;5;241m.\u001b[39mthrow(exc)\n",
      "File \u001b[1;32mc:\\Users\\khanm\\AppData\\Local\\Programs\\Python\\Python311\\Lib\\site-packages\\classiq\\executor.py:49\u001b[0m, in \u001b[0;36mexecute_async\u001b[1;34m(quantum_program)\u001b[0m\n\u001b[0;32m     47\u001b[0m \u001b[38;5;28;01masync\u001b[39;00m \u001b[38;5;28;01mdef\u001b[39;00m \u001b[38;5;21mexecute_async\u001b[39m(quantum_program: SerializedQuantumProgram) \u001b[38;5;241m-\u001b[39m\u001b[38;5;241m>\u001b[39m ExecutionJob:\n\u001b[0;32m     48\u001b[0m     circuit \u001b[38;5;241m=\u001b[39m _parse_serialized_qprog(quantum_program)\n\u001b[1;32m---> 49\u001b[0m     result \u001b[38;5;241m=\u001b[39m \u001b[38;5;28;01mawait\u001b[39;00m ApiWrapper\u001b[38;5;241m.\u001b[39mcall_execute_generated_circuit(circuit)\n\u001b[0;32m     50\u001b[0m     \u001b[38;5;28;01mreturn\u001b[39;00m ExecutionJob(details\u001b[38;5;241m=\u001b[39mresult)\n",
      "File \u001b[1;32mc:\\Users\\khanm\\AppData\\Local\\Programs\\Python\\Python311\\Lib\\site-packages\\classiq\\_internals\\api_wrapper.py:104\u001b[0m, in \u001b[0;36mApiWrapper.call_execute_generated_circuit\u001b[1;34m(cls, circuit)\u001b[0m\n\u001b[0;32m     95\u001b[0m \u001b[38;5;129m@classmethod\u001b[39m\n\u001b[0;32m     96\u001b[0m \u001b[38;5;28;01masync\u001b[39;00m \u001b[38;5;28;01mdef\u001b[39;00m \u001b[38;5;21mcall_execute_generated_circuit\u001b[39m(\n\u001b[0;32m     97\u001b[0m     \u001b[38;5;28mcls\u001b[39m, circuit: generator_result\u001b[38;5;241m.\u001b[39mGeneratedCircuit\n\u001b[0;32m     98\u001b[0m ) \u001b[38;5;241m-\u001b[39m\u001b[38;5;241m>\u001b[39m execution_request\u001b[38;5;241m.\u001b[39mExecutionJobDetails:\n\u001b[0;32m     99\u001b[0m     execution_input \u001b[38;5;241m=\u001b[39m \u001b[38;5;28;01mawait\u001b[39;00m \u001b[38;5;28mcls\u001b[39m\u001b[38;5;241m.\u001b[39m_call_task_pydantic(\n\u001b[0;32m    100\u001b[0m         http_method\u001b[38;5;241m=\u001b[39mHTTPMethod\u001b[38;5;241m.\u001b[39mPOST,\n\u001b[0;32m    101\u001b[0m         url\u001b[38;5;241m=\u001b[39mroutes\u001b[38;5;241m.\u001b[39mCONVERSION_GENERATED_CIRCUIT_TO_EXECUTION_INPUT_FULL,\n\u001b[0;32m    102\u001b[0m         model\u001b[38;5;241m=\u001b[39mcircuit,\n\u001b[0;32m    103\u001b[0m     )\n\u001b[1;32m--> 104\u001b[0m     data \u001b[38;5;241m=\u001b[39m \u001b[38;5;28;01mawait\u001b[39;00m \u001b[38;5;28mcls\u001b[39m\u001b[38;5;241m.\u001b[39m_call_task(\n\u001b[0;32m    105\u001b[0m         http_method\u001b[38;5;241m=\u001b[39mHTTPMethod\u001b[38;5;241m.\u001b[39mPOST,\n\u001b[0;32m    106\u001b[0m         url\u001b[38;5;241m=\u001b[39mroutes\u001b[38;5;241m.\u001b[39mEXECUTION_JOBS_FULL_PATH,\n\u001b[0;32m    107\u001b[0m         body\u001b[38;5;241m=\u001b[39mexecution_input,\n\u001b[0;32m    108\u001b[0m     )\n\u001b[0;32m    109\u001b[0m     \u001b[38;5;28;01mreturn\u001b[39;00m execution_request\u001b[38;5;241m.\u001b[39mExecutionJobDetails\u001b[38;5;241m.\u001b[39mparse_obj(data)\n",
      "File \u001b[1;32mc:\\Users\\khanm\\AppData\\Local\\Programs\\Python\\Python311\\Lib\\site-packages\\classiq\\_internals\\api_wrapper.py:76\u001b[0m, in \u001b[0;36mApiWrapper._call_task\u001b[1;34m(cls, http_method, url, body, params, use_versioned_url)\u001b[0m\n\u001b[0;32m     67\u001b[0m \u001b[38;5;129m@classmethod\u001b[39m\n\u001b[0;32m     68\u001b[0m \u001b[38;5;28;01masync\u001b[39;00m \u001b[38;5;28;01mdef\u001b[39;00m \u001b[38;5;21m_call_task\u001b[39m(\n\u001b[0;32m     69\u001b[0m     \u001b[38;5;28mcls\u001b[39m,\n\u001b[1;32m   (...)\u001b[0m\n\u001b[0;32m     74\u001b[0m     use_versioned_url: \u001b[38;5;28mbool\u001b[39m \u001b[38;5;241m=\u001b[39m \u001b[38;5;28;01mTrue\u001b[39;00m,\n\u001b[0;32m     75\u001b[0m ) \u001b[38;5;241m-\u001b[39m\u001b[38;5;241m>\u001b[39m \u001b[38;5;28mdict\u001b[39m:\n\u001b[1;32m---> 76\u001b[0m     res \u001b[38;5;241m=\u001b[39m \u001b[38;5;28;01mawait\u001b[39;00m client()\u001b[38;5;241m.\u001b[39mcall_api(\n\u001b[0;32m     77\u001b[0m         http_method\u001b[38;5;241m=\u001b[39mhttp_method,\n\u001b[0;32m     78\u001b[0m         url\u001b[38;5;241m=\u001b[39murl,\n\u001b[0;32m     79\u001b[0m         body\u001b[38;5;241m=\u001b[39mbody,\n\u001b[0;32m     80\u001b[0m         params\u001b[38;5;241m=\u001b[39mparams,\n\u001b[0;32m     81\u001b[0m         use_versioned_url\u001b[38;5;241m=\u001b[39muse_versioned_url,\n\u001b[0;32m     82\u001b[0m     )\n\u001b[0;32m     83\u001b[0m     \u001b[38;5;28;01mif\u001b[39;00m \u001b[38;5;129;01mnot\u001b[39;00m \u001b[38;5;28misinstance\u001b[39m(res, \u001b[38;5;28mdict\u001b[39m):\n\u001b[0;32m     84\u001b[0m         \u001b[38;5;28;01mraise\u001b[39;00m ClassiqValueError(\u001b[38;5;124mf\u001b[39m\u001b[38;5;124m\"\u001b[39m\u001b[38;5;124mUnexpected returned value: \u001b[39m\u001b[38;5;132;01m{\u001b[39;00mres\u001b[38;5;132;01m}\u001b[39;00m\u001b[38;5;124m\"\u001b[39m)\n",
      "File \u001b[1;32mc:\\Users\\khanm\\AppData\\Local\\Programs\\Python\\Python311\\Lib\\site-packages\\classiq\\_internals\\client.py:99\u001b[0m, in \u001b[0;36mtry_again_on_failure.<locals>.wrapper\u001b[1;34m(*args, **kwargs)\u001b[0m\n\u001b[0;32m     97\u001b[0m \u001b[38;5;28;01mfor\u001b[39;00m i \u001b[38;5;129;01min\u001b[39;00m \u001b[38;5;28mrange\u001b[39m(_RETRY_COUNT):\n\u001b[0;32m     98\u001b[0m     \u001b[38;5;28;01mtry\u001b[39;00m:\n\u001b[1;32m---> 99\u001b[0m         \u001b[38;5;28;01mreturn\u001b[39;00m \u001b[38;5;28;01mawait\u001b[39;00m func(\u001b[38;5;241m*\u001b[39margs, \u001b[38;5;241m*\u001b[39m\u001b[38;5;241m*\u001b[39mkwargs)\n\u001b[0;32m    100\u001b[0m     \u001b[38;5;28;01mexcept\u001b[39;00m ClassiqExpiredTokenError:\n\u001b[0;32m    101\u001b[0m         _logger\u001b[38;5;241m.\u001b[39minfo(\n\u001b[0;32m    102\u001b[0m             \u001b[38;5;124m\"\u001b[39m\u001b[38;5;124mToken expired when trying to \u001b[39m\u001b[38;5;132;01m%s\u001b[39;00m\u001b[38;5;124m with args \u001b[39m\u001b[38;5;132;01m%s\u001b[39;00m\u001b[38;5;124m \u001b[39m\u001b[38;5;132;01m%s\u001b[39;00m\u001b[38;5;124m\"\u001b[39m,\n\u001b[0;32m    103\u001b[0m             func,\n\u001b[1;32m   (...)\u001b[0m\n\u001b[0;32m    106\u001b[0m             exc_info\u001b[38;5;241m=\u001b[39m\u001b[38;5;28;01mTrue\u001b[39;00m,\n\u001b[0;32m    107\u001b[0m         )\n",
      "File \u001b[1;32mc:\\Users\\khanm\\AppData\\Local\\Programs\\Python\\Python311\\Lib\\site-packages\\classiq\\_internals\\client.py:218\u001b[0m, in \u001b[0;36mClient.call_api\u001b[1;34m(self, http_method, url, body, params, use_versioned_url)\u001b[0m\n\u001b[0;32m    211\u001b[0m \u001b[38;5;28;01masync\u001b[39;00m \u001b[38;5;28;01mwith\u001b[39;00m \u001b[38;5;28mself\u001b[39m\u001b[38;5;241m.\u001b[39masync_client() \u001b[38;5;28;01mas\u001b[39;00m async_client:\n\u001b[0;32m    212\u001b[0m     response \u001b[38;5;241m=\u001b[39m \u001b[38;5;28;01mawait\u001b[39;00m async_client\u001b[38;5;241m.\u001b[39mrequest(\n\u001b[0;32m    213\u001b[0m         method\u001b[38;5;241m=\u001b[39mhttp_method,\n\u001b[0;32m    214\u001b[0m         url\u001b[38;5;241m=\u001b[39murl,\n\u001b[0;32m    215\u001b[0m         json\u001b[38;5;241m=\u001b[39mbody,\n\u001b[0;32m    216\u001b[0m         params\u001b[38;5;241m=\u001b[39mparams,\n\u001b[0;32m    217\u001b[0m     )\n\u001b[1;32m--> 218\u001b[0m     \u001b[38;5;28;43mself\u001b[39;49m\u001b[38;5;241;43m.\u001b[39;49m\u001b[43mhandle_response\u001b[49m\u001b[43m(\u001b[49m\u001b[43mresponse\u001b[49m\u001b[43m)\u001b[49m\n\u001b[0;32m    219\u001b[0m     \u001b[38;5;28;01mreturn\u001b[39;00m response\u001b[38;5;241m.\u001b[39mjson()\n",
      "File \u001b[1;32mc:\\Users\\khanm\\AppData\\Local\\Programs\\Python\\Python311\\Lib\\site-packages\\classiq\\_internals\\client.py:172\u001b[0m, in \u001b[0;36mClient.handle_response\u001b[1;34m(self, response)\u001b[0m\n\u001b[0;32m    170\u001b[0m \u001b[38;5;28mself\u001b[39m\u001b[38;5;241m.\u001b[39m_handle_warnings(response)\n\u001b[0;32m    171\u001b[0m \u001b[38;5;28;01mif\u001b[39;00m response\u001b[38;5;241m.\u001b[39mis_error:\n\u001b[1;32m--> 172\u001b[0m     \u001b[38;5;28;43mself\u001b[39;49m\u001b[38;5;241;43m.\u001b[39;49m\u001b[43m_handle_error\u001b[49m\u001b[43m(\u001b[49m\u001b[43mresponse\u001b[49m\u001b[43m)\u001b[49m\n\u001b[0;32m    173\u001b[0m \u001b[38;5;28mself\u001b[39m\u001b[38;5;241m.\u001b[39m_handle_success(response)\n",
      "File \u001b[1;32mc:\\Users\\khanm\\AppData\\Local\\Programs\\Python\\Python311\\Lib\\site-packages\\classiq\\_internals\\client.py:191\u001b[0m, in \u001b[0;36mClient._handle_error\u001b[1;34m(response)\u001b[0m\n\u001b[0;32m    189\u001b[0m \u001b[38;5;28;01mexcept\u001b[39;00m \u001b[38;5;167;01mException\u001b[39;00m:  \u001b[38;5;66;03m# nosec B110\u001b[39;00m\n\u001b[0;32m    190\u001b[0m     \u001b[38;5;28;01mpass\u001b[39;00m\n\u001b[1;32m--> 191\u001b[0m \u001b[38;5;28;01mraise\u001b[39;00m ClassiqAPIError(message)\n",
      "\u001b[1;31mClassiqAPIError\u001b[0m: Call to API failed with code 400: Requested program requires too many qubits.\nRequested qubits: 26, backend: aer_simulator, limit: 25.\nPlease run a different program or try a different backend.\n\nIf you need further assistance, please reach out on our Community Slack channel at: https://short.classiq.io/join-slack\nIf the error persists feel free to open a ticket at: https://short.classiq.io/support"
     ]
    }
   ],
   "source": [
    "\n",
    "def evaluate_score_stage_1(results, user_input_precision):\n",
    "\n",
    "    # The array of values the code is compared against \n",
    "    calculated_precision = 10\n",
    "    domain = np.arange(0, 1, 1/ 2**calculated_precision)\n",
    "    expected_y = np.tanh(domain)\n",
    "    \n",
    "    # Sort the results according to the values of x\n",
    "    parsed_counts = sorted(results[0].value.parsed_counts, key=lambda x: x.state[\"x\"])\n",
    "    for tuple in parsed_counts: print(tuple.state)\n",
    "\n",
    "    # Form the relevant dictionary with values of 'x' and 'y'\n",
    "    results_dict = {s.state['x']: s.state['y'] for s in parsed_counts}\n",
    "\n",
    "    # Verify all strings were sampled, also no superpositions\n",
    "    assert len(results_dict) == 2 ** user_input_precision \n",
    "\n",
    "    # Comparing to the users results\n",
    "    measured_y = []\n",
    "    for x_val in domain:\n",
    "        # The y value that is assesd at x_val is the y value of the first x the user has such that x<x_val\n",
    "        x_val_floored = int(x_val * (2**user_input_precision)) / (2**user_input_precision)\n",
    "        measured_y.append(results_dict[x_val_floored])\n",
    "\n",
    "    # The metric asseses what's the largest distancce between the expected value and the measured value, the smallest the better\n",
    "    max_distance = np.max(np.abs(expected_y - np.array(measured_y)))\n",
    "    return max_distance\n",
    "\n",
    "def print_depth_width(quantum_program):\n",
    "    generated_circuit = GeneratedCircuit.parse_obj(json.loads(quantum_program))\n",
    "    print(f\"Synthesized circuit width: {generated_circuit.data.width}, depth: {generated_circuit.transpiled_circuit.depth}\")\n",
    "\n",
    "# Execution parameters\n",
    "num_shots = 1000\n",
    "backend_name = \"aer_simulator\" # \"aer_simulator\", \"nvidia_state_vector_simulator\"\n",
    "\n",
    "qmod_stage_1 = set_execution_preferences(qmod_stage_1, \n",
    "                                        ExecutionPreferences(\n",
    "                                            num_shots=1000,  # The number of shots is a hyperparameter of the algorithm\n",
    "                                            backend_preferences=ClassiqBackendPreferences(\n",
    "                                                                    backend_name=backend_name))) #aer_simulator / nvidia_state_vector_simulator\n",
    "print('Synthesizing quantum program stage 1 with the execution preferences')\n",
    "qprog_stage_1 = synthesize(qmod_stage_1)\n",
    "print_depth_width(qprog_stage_1)\n",
    "print('Executing the quantum program')\n",
    "results = execute(qprog_stage_1).result()\n",
    "print(\"Results of stage 1 \\n Max distance = \", evaluate_score_stage_1(results, precision_value_stage_1))"
   ]
  },
  {
   "cell_type": "markdown",
   "metadata": {},
   "source": [
    "Evluate the results of stage 2:"
   ]
  },
  {
   "cell_type": "code",
   "execution_count": null,
   "metadata": {},
   "outputs": [
    {
     "name": "stdout",
     "output_type": "stream",
     "text": [
      "\n",
      "Results of stage 2 \n",
      "Precision = 25, Circuit depth = 285\n"
     ]
    }
   ],
   "source": [
    "generated_circuit = GeneratedCircuit.parse_obj(json.loads(qprog_stage_2))\n",
    "print(f'\\nResults of stage 2 \\nPrecision = {precision_value_stage_2}, Circuit depth = {generated_circuit.transpiled_circuit.depth}')"
   ]
  },
  {
   "cell_type": "markdown",
   "metadata": {},
   "source": [
    "## Cheat Sheet"
   ]
  }
 ],
 "metadata": {
  "kernelspec": {
   "display_name": "Python 3.9.7 ('classiq_0_36_1')",
   "language": "python",
   "name": "python3"
  },
  "language_info": {
   "codemirror_mode": {
    "name": "ipython",
    "version": 3
   },
   "file_extension": ".py",
   "mimetype": "text/x-python",
   "name": "python",
   "nbconvert_exporter": "python",
   "pygments_lexer": "ipython3",
   "version": "3.11.0"
  },
  "orig_nbformat": 4,
  "vscode": {
   "interpreter": {
    "hash": "39f2fb914d68d910e6a44db3a048977f45af665714e1ed570fe3896698105d3f"
   }
  }
 },
 "nbformat": 4,
 "nbformat_minor": 2
}
